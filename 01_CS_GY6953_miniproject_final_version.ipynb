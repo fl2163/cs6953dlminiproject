{
  "nbformat": 4,
  "nbformat_minor": 0,
  "metadata": {
    "colab": {
      "provenance": [],
      "collapsed_sections": [
        "u7yUdA9dPtpn",
        "8rfEnRQVUy-9",
        "mhCVfHq2Yv-f"
      ]
    },
    "kernelspec": {
      "name": "python3",
      "display_name": "Python 3"
    },
    "language_info": {
      "name": "python"
    },
    "accelerator": "GPU",
    "gpuClass": "standard"
  },
  "cells": [
    {
      "cell_type": "markdown",
      "source": [
        "# Mini-Project - Modified ResNet Model"
      ],
      "metadata": {
        "id": "niKHKNYuPQjo"
      }
    },
    {
      "cell_type": "markdown",
      "source": [
        "Outline:\n",
        "\n",
        "1.   Download, transform, and view the dataset\n",
        "2.   Prepare dataloaders for training set and validation set\n",
        "3.   Construct the model \n",
        "4.   Check device, move to GPU\n",
        "5.   Train the model\n",
        "6.   Test the model with single image\n",
        "7.   Summary\n",
        "8.   References\n",
        "\n",
        "\n",
        "Techniques used to improve accuracy:\n",
        "*   data normalization\n",
        "*   random transformation/data augmentation\n",
        "*   added weight decay\n",
        "*   set limits for the gradient (gradient clipping)\n",
        "*   added varying learning rate using a learning rate scheduler "
      ],
      "metadata": {
        "id": "jck5ySvnPTdl"
      }
    },
    {
      "cell_type": "code",
      "execution_count": null,
      "metadata": {
        "id": "vKpjGz9lPKfj"
      },
      "outputs": [],
      "source": [
        "import os\n",
        "import torch\n",
        "import torchvision\n",
        "import tarfile\n",
        "from torchvision.datasets.utils import download_url\n",
        "from torch.utils.data import random_split"
      ]
    },
    {
      "cell_type": "markdown",
      "source": [
        "## Download, transform, and view the dataset"
      ],
      "metadata": {
        "id": "u7yUdA9dPtpn"
      }
    },
    {
      "cell_type": "code",
      "source": [
        "# Download from S3\n",
        "dataset_url = \"https://s3.amazonaws.com/fast-ai-imageclas/cifar10.tgz\"\n",
        "download_url(dataset_url, '.')"
      ],
      "metadata": {
        "id": "kO4SyExRPtCt"
      },
      "execution_count": null,
      "outputs": []
    },
    {
      "cell_type": "code",
      "source": [
        "with tarfile.open('./cifar10.tgz', 'r:gz') as tar:\n",
        "    tar.extractall(path='./data')"
      ],
      "metadata": {
        "id": "ldTuXhRYQMGC"
      },
      "execution_count": null,
      "outputs": []
    },
    {
      "cell_type": "code",
      "source": [
        "# Check the folders. The folder structure is one folder per class.\n",
        "directory = './data/cifar10'\n",
        "\n",
        "print(os.listdir(directory))\n",
        "classes = os.listdir(directory + \"/train\")\n",
        "print(classes)"
      ],
      "metadata": {
        "id": "21AumqiMQOKI"
      },
      "execution_count": null,
      "outputs": []
    },
    {
      "cell_type": "code",
      "source": [
        "# Transforms the original images and load the images as torch tensors\n",
        "import torchvision.transforms as tt\n",
        "from torchvision.datasets import ImageFolder\n",
        "from torchvision.transforms import ToTensor\n",
        "\n",
        "\n",
        "stats = ((0.4914, 0.4822, 0.4465), (0.2023, 0.1994, 0.2010))\n",
        "train_tfms = tt.Compose([tt.RandomCrop(32, padding=4, padding_mode='reflect'), \n",
        "                         tt.RandomHorizontalFlip(), \n",
        "                         tt.ToTensor(), \n",
        "                         tt.Normalize(*stats,inplace=True)])\n",
        "valid_tfms = tt.Compose([tt.ToTensor(), tt.Normalize(*stats)])"
      ],
      "metadata": {
        "id": "b4UdcZAzQQOl"
      },
      "execution_count": null,
      "outputs": []
    },
    {
      "cell_type": "code",
      "source": [
        "train_ds = ImageFolder(directory+'/train', train_tfms)\n",
        "valid_ds = ImageFolder(directory+'/test', valid_tfms)"
      ],
      "metadata": {
        "id": "-OrxALfRSgw-"
      },
      "execution_count": null,
      "outputs": []
    },
    {
      "cell_type": "code",
      "source": [
        "# 10 classes\n",
        "print(train_ds.classes)"
      ],
      "metadata": {
        "id": "BsP5ZV-wSphi"
      },
      "execution_count": null,
      "outputs": []
    },
    {
      "cell_type": "code",
      "source": [
        "# Check the images. Each images has 3 channels, with size 32x32.\n",
        "img, label = train_ds[0]\n",
        "print(img.shape, label)\n",
        "img"
      ],
      "metadata": {
        "id": "2nPxxayaTFCj"
      },
      "execution_count": null,
      "outputs": []
    },
    {
      "cell_type": "code",
      "source": [
        "# Look at a single image in the training set, after the transformations\n",
        "import matplotlib\n",
        "import matplotlib.pyplot as plt\n",
        "%matplotlib inline\n",
        "\n",
        "matplotlib.rcParams['figure.facecolor'] = '#ffffff'"
      ],
      "metadata": {
        "id": "uJseM-EVTPAo"
      },
      "execution_count": null,
      "outputs": []
    },
    {
      "cell_type": "code",
      "source": [
        "def show_example(img, label):\n",
        "    print('Label: ', train_ds.classes[label], \"(\"+str(label)+\")\")\n",
        "    plt.imshow(img.permute(1, 2, 0))"
      ],
      "metadata": {
        "id": "PzK08oyDTeNN"
      },
      "execution_count": null,
      "outputs": []
    },
    {
      "cell_type": "code",
      "source": [
        "show_example(*train_ds[1])"
      ],
      "metadata": {
        "id": "RJ8oT2elTbT8"
      },
      "execution_count": null,
      "outputs": []
    },
    {
      "cell_type": "markdown",
      "source": [
        "## Prepare Dataloaders For Training Set And Validation Set"
      ],
      "metadata": {
        "id": "8rfEnRQVUy-9"
      }
    },
    {
      "cell_type": "code",
      "source": [
        "# Create dataloaders\n",
        "\n",
        "from torch.utils.data.dataloader import DataLoader\n",
        "\n",
        "batch_size = 400\n",
        "\n",
        "train_dl = DataLoader(train_ds, batch_size, shuffle=True, num_workers=3, pin_memory=True)\n",
        "valid_dl = DataLoader(valid_ds, batch_size*2, num_workers=3, pin_memory=True)"
      ],
      "metadata": {
        "id": "T081h1b3TmxW"
      },
      "execution_count": null,
      "outputs": []
    },
    {
      "cell_type": "code",
      "source": [
        "# View the batch in grids, after denormalizing \n",
        "from torchvision.utils import make_grid\n",
        "\n",
        "# denormalize the pixels\n",
        "def denormalize(images, means, stds):\n",
        "    means = torch.tensor(means).reshape(1, 3, 1, 1)\n",
        "    stds = torch.tensor(stds).reshape(1, 3, 1, 1)\n",
        "    return images * stds + means\n",
        "\n",
        "def show_batch(dl):\n",
        "    for images, labels in dl:\n",
        "        fig, ax = plt.subplots(figsize=(12, 6))\n",
        "        ax.set_xticks([]); ax.set_yticks([])\n",
        "        denorm_images = denormalize(images, *stats)\n",
        "        ax.imshow(make_grid(denorm_images, nrow=20).permute(1, 2, 0))\n",
        "        break"
      ],
      "metadata": {
        "id": "uot9zXVfWlh8"
      },
      "execution_count": null,
      "outputs": []
    },
    {
      "cell_type": "code",
      "source": [
        "show_batch(train_dl)"
      ],
      "metadata": {
        "id": "iP2uiwk2WntH"
      },
      "execution_count": null,
      "outputs": []
    },
    {
      "cell_type": "markdown",
      "source": [
        "## Construct the model "
      ],
      "metadata": {
        "id": "uNCrkLohYtA4"
      }
    },
    {
      "cell_type": "code",
      "source": [
        "import torch.nn as nn\n",
        "import torch.nn.functional as F"
      ],
      "metadata": {
        "id": "bnBjCKROWp8J"
      },
      "execution_count": null,
      "outputs": []
    },
    {
      "cell_type": "code",
      "source": [
        "# Define structure for training and validation processes for each epoch\n",
        "class ImageClassificationBase(nn.Module):\n",
        "    def training_step(self, batch):\n",
        "        images, labels = batch \n",
        "        out = self(images)                  \n",
        "        loss = F.cross_entropy(out, labels) \n",
        "        return loss\n",
        "    \n",
        "    def validation_step(self, batch):\n",
        "        images, labels = batch \n",
        "        out = self(images)                    \n",
        "        loss = F.cross_entropy(out, labels)   \n",
        "        acc = accuracy(out, labels)           \n",
        "        return {'val_loss': loss.detach(), 'val_acc': acc}\n",
        "        \n",
        "    def validation_epoch_end(self, outputs):\n",
        "        batch_losses = [x['val_loss'] for x in outputs]\n",
        "        epoch_loss = torch.stack(batch_losses).mean()  \n",
        "        batch_accs = [x['val_acc'] for x in outputs]\n",
        "        epoch_acc = torch.stack(batch_accs).mean()      \n",
        "        return {'val_loss': epoch_loss.item(), 'val_acc': epoch_acc.item()}\n",
        "    \n",
        "    def epoch_end(self, epoch, result):\n",
        "        print(\"Epoch [{}], last_lr: {:.5f}, train_loss: {:.4f}, val_loss: {:.4f}, val_acc: {:.4f}\".format(\n",
        "            epoch, result['lrs'][-1], result['train_loss'], result['val_loss'], result['val_acc']))\n",
        "        \n",
        "def accuracy(outputs, labels):\n",
        "    _, preds = torch.max(outputs, dim=1)\n",
        "    return torch.tensor(torch.sum(preds == labels).item() / len(preds))"
      ],
      "metadata": {
        "id": "pr-4uUTHbtax"
      },
      "execution_count": null,
      "outputs": []
    },
    {
      "cell_type": "code",
      "source": [
        "# setup individual resnet block\n",
        "def conv_block(in_channels, out_channels, pool=False):\n",
        "    layers = [nn.Conv2d(in_channels, out_channels, kernel_size=3, padding=1), \n",
        "              nn.BatchNorm2d(out_channels), \n",
        "              nn.ReLU(inplace=True)]\n",
        "    if pool: layers.append(nn.MaxPool2d(2))\n",
        "    return nn.Sequential(*layers)\n"
      ],
      "metadata": {
        "id": "rui4EWtIcTC_"
      },
      "execution_count": null,
      "outputs": []
    },
    {
      "cell_type": "code",
      "source": [
        "# setup resnet architecture \n",
        "class ResNet(ImageClassificationBase):\n",
        "    def __init__(self, in_channels, num_classes):\n",
        "        super().__init__()\n",
        "        \n",
        "        self.conv1 = conv_block(in_channels, 64)\n",
        "        self.conv2 = conv_block(64, 128, pool=True)\n",
        "        self.res1 = nn.Sequential(conv_block(128, 128), conv_block(128, 128))\n",
        "        \n",
        "        self.conv3 = conv_block(128, 256, pool=True)\n",
        "        self.conv4 = conv_block(256, 512, pool=True)\n",
        "        \n",
        "        self.classifier = nn.Sequential(nn.MaxPool2d(4), \n",
        "                                        nn.Flatten(), \n",
        "                                        nn.Dropout(0.2),\n",
        "                                        nn.Linear(512, num_classes))\n",
        "        \n",
        "    def forward(self, xb):\n",
        "        out = self.conv1(xb)\n",
        "        out = self.conv2(out)\n",
        "        out = self.res1(out) + out\n",
        "        out = self.conv3(out)\n",
        "        out = self.conv4(out)\n",
        "        out = self.classifier(out)\n",
        "        return out\n"
      ],
      "metadata": {
        "id": "CBJo_9Q_caUq"
      },
      "execution_count": null,
      "outputs": []
    },
    {
      "cell_type": "code",
      "source": [
        "# Check the architecture\n",
        "model = ResNet(3, 10)\n",
        "model"
      ],
      "metadata": {
        "id": "HWDpR5guc3c7"
      },
      "execution_count": null,
      "outputs": []
    },
    {
      "cell_type": "markdown",
      "source": [
        "## Check device, move to GPU\n"
      ],
      "metadata": {
        "id": "mhCVfHq2Yv-f"
      }
    },
    {
      "cell_type": "code",
      "source": [
        "def get_default_device():\n",
        "    \"\"\"Pick GPU if available, else CPU\"\"\"\n",
        "    if torch.cuda.is_available():\n",
        "        return torch.device('cuda')\n",
        "    else:\n",
        "        return torch.device('cpu')\n",
        "    \n",
        "def to_device(data, device):\n",
        "    \"\"\"Move tensor(s) to chosen device\"\"\"\n",
        "    if isinstance(data, (list,tuple)):\n",
        "        return [to_device(x, device) for x in data]\n",
        "    return data.to(device, non_blocking=True)\n",
        "\n",
        "class DeviceDataLoader():\n",
        "    \"\"\"Wrap a dataloader to move data to a device\"\"\"\n",
        "    def __init__(self, dl, device):\n",
        "        self.dl = dl\n",
        "        self.device = device\n",
        "        \n",
        "    def __iter__(self):\n",
        "        \"\"\"Yield a batch of data after moving it to device\"\"\"\n",
        "        for b in self.dl: \n",
        "            yield to_device(b, self.device)\n",
        "\n",
        "    def __len__(self):\n",
        "        \"\"\"Number of batches\"\"\"\n",
        "        return len(self.dl)"
      ],
      "metadata": {
        "id": "0LPTxG7SYIbi"
      },
      "execution_count": null,
      "outputs": []
    },
    {
      "cell_type": "code",
      "source": [
        "device = get_default_device()\n",
        "device"
      ],
      "metadata": {
        "id": "4jE4L682YJNk"
      },
      "execution_count": null,
      "outputs": []
    },
    {
      "cell_type": "code",
      "source": [
        "# wrap dataloaders in DeviceDataLoader or using GPU\n",
        "train_dl = DeviceDataLoader(train_dl, device)\n",
        "valid_dl = DeviceDataLoader(valid_dl, device)"
      ],
      "metadata": {
        "id": "Ltoe2XanZFH7"
      },
      "execution_count": null,
      "outputs": []
    },
    {
      "cell_type": "code",
      "source": [
        "to_device(model, device);"
      ],
      "metadata": {
        "id": "0GzeBs60ZSKa"
      },
      "execution_count": null,
      "outputs": []
    },
    {
      "cell_type": "markdown",
      "source": [
        "## Train the Model"
      ],
      "metadata": {
        "id": "2oYAXKC8dXZO"
      }
    },
    {
      "cell_type": "code",
      "source": [
        "# Define the evaluation method\n",
        "@torch.no_grad()\n",
        "def evaluate(model, val_loader):\n",
        "    model.eval()\n",
        "    outputs = [model.validation_step(batch) for batch in val_loader]\n",
        "    return model.validation_epoch_end(outputs)"
      ],
      "metadata": {
        "id": "ZOMjR8h0dGPS"
      },
      "execution_count": null,
      "outputs": []
    },
    {
      "cell_type": "markdown",
      "source": [
        "Improvements\n",
        "*   added weight decay\n",
        "*   set limits for the gradient (gradient clipping)\n",
        "*   added varying learning rate using a learning rate scheduler \n",
        "\n"
      ],
      "metadata": {
        "id": "7UgkI8jfeM8O"
      }
    },
    {
      "cell_type": "code",
      "source": [
        "# Define the problem-independent fit() function to drive the training\n",
        "def fit(epochs, max_lr, model, train_loader, val_loader, \n",
        "                  weight_decay=0, grad_clip=None, opt_func=torch.optim.SGD):\n",
        "    torch.cuda.empty_cache()\n",
        "    history = []\n",
        "    \n",
        "    # added weight decay\n",
        "    optimizer = opt_func(model.parameters(), max_lr, weight_decay=weight_decay)\n",
        "    # added learning rate scheduler\n",
        "    sched = torch.optim.lr_scheduler.OneCycleLR(optimizer, max_lr, epochs=epochs, \n",
        "                                                steps_per_epoch=len(train_loader))\n",
        "    \n",
        "    for epoch in range(epochs):\n",
        "        # Training Phase \n",
        "        model.train()\n",
        "        train_losses = []\n",
        "        lrs = []\n",
        "        for batch in train_loader:\n",
        "            loss = model.training_step(batch)\n",
        "            train_losses.append(loss)\n",
        "            loss.backward()\n",
        "            \n",
        "            # added gradient clipping\n",
        "            if grad_clip: \n",
        "                nn.utils.clip_grad_value_(model.parameters(), grad_clip)\n",
        "            \n",
        "            optimizer.step()\n",
        "            optimizer.zero_grad()\n",
        "            \n",
        "            lrs.append(get_lr(optimizer))\n",
        "            sched.step()\n",
        "        \n",
        "        # Validation phase\n",
        "        result = evaluate(model, val_loader)\n",
        "        result['train_loss'] = torch.stack(train_losses).mean().item()\n",
        "        result['lrs'] = lrs\n",
        "        model.epoch_end(epoch, result)\n",
        "        history.append(result)\n",
        "    return history\n",
        "\n",
        "def get_lr(optimizer):\n",
        "    for param_group in optimizer.param_groups:\n",
        "        return param_group['lr']\n",
        "\n"
      ],
      "metadata": {
        "id": "66dgc3ULd23H"
      },
      "execution_count": null,
      "outputs": []
    },
    {
      "cell_type": "code",
      "source": [
        "# Initial evaluation before training -> low accuracy\n",
        "history = [evaluate(model, valid_dl)]\n",
        "history"
      ],
      "metadata": {
        "id": "e-_LmPiKfQfX"
      },
      "execution_count": null,
      "outputs": []
    },
    {
      "cell_type": "code",
      "source": [
        "# Train the model for 10/20/30 epochs\n",
        "epochs = 20\n",
        "max_lr = 0.01\n",
        "grad_clip = 0.1\n",
        "weight_decay = 1e-4\n",
        "opt_func = torch.optim.Adam\n"
      ],
      "metadata": {
        "id": "4yePQLUOfoe5"
      },
      "execution_count": null,
      "outputs": []
    },
    {
      "cell_type": "code",
      "source": [
        "%%time\n",
        "history += fit(epochs, max_lr, model, train_dl, valid_dl, \n",
        "                             grad_clip=grad_clip, \n",
        "                             weight_decay=weight_decay, \n",
        "                             opt_func=opt_func)"
      ],
      "metadata": {
        "colab": {
          "base_uri": "https://localhost:8080/",
          "height": 0
        },
        "id": "Q_j_PG4Yf5M_",
        "outputId": "9a25a0bd-abed-49d2-9c8c-4bf8aa4757e9"
      },
      "execution_count": 67,
      "outputs": [
        {
          "output_type": "stream",
          "name": "stdout",
          "text": [
            "Epoch [0], last_lr: 0.00103, train_loss: 1.4223, val_loss: 1.0460, val_acc: 0.6344\n",
            "Epoch [1], last_lr: 0.00279, train_loss: 0.9893, val_loss: 1.2019, val_acc: 0.5922\n",
            "Epoch [2], last_lr: 0.00519, train_loss: 0.8445, val_loss: 0.8977, val_acc: 0.6965\n",
            "Epoch [3], last_lr: 0.00759, train_loss: 0.7730, val_loss: 1.1583, val_acc: 0.6243\n",
            "Epoch [4], last_lr: 0.00936, train_loss: 0.6855, val_loss: 0.9288, val_acc: 0.7023\n",
            "Epoch [5], last_lr: 0.01000, train_loss: 0.5909, val_loss: 0.5545, val_acc: 0.8084\n",
            "Epoch [6], last_lr: 0.00987, train_loss: 0.5102, val_loss: 0.5194, val_acc: 0.8261\n",
            "Epoch [7], last_lr: 0.00950, train_loss: 0.4670, val_loss: 0.5326, val_acc: 0.8208\n",
            "Epoch [8], last_lr: 0.00891, train_loss: 0.4353, val_loss: 0.5192, val_acc: 0.8221\n",
            "Epoch [9], last_lr: 0.00812, train_loss: 0.3958, val_loss: 0.6172, val_acc: 0.7939\n",
            "Epoch [10], last_lr: 0.00717, train_loss: 0.3798, val_loss: 0.6214, val_acc: 0.7858\n",
            "Epoch [11], last_lr: 0.00611, train_loss: 0.3425, val_loss: 0.4058, val_acc: 0.8622\n",
            "Epoch [12], last_lr: 0.00500, train_loss: 0.3164, val_loss: 0.3756, val_acc: 0.8738\n",
            "Epoch [13], last_lr: 0.00389, train_loss: 0.2795, val_loss: 0.3337, val_acc: 0.8867\n",
            "Epoch [14], last_lr: 0.00283, train_loss: 0.2408, val_loss: 0.3131, val_acc: 0.8938\n",
            "Epoch [15], last_lr: 0.00188, train_loss: 0.2000, val_loss: 0.2868, val_acc: 0.9052\n",
            "Epoch [16], last_lr: 0.00109, train_loss: 0.1585, val_loss: 0.2722, val_acc: 0.9111\n",
            "Epoch [17], last_lr: 0.00050, train_loss: 0.1233, val_loss: 0.2504, val_acc: 0.9184\n",
            "Epoch [18], last_lr: 0.00013, train_loss: 0.0997, val_loss: 0.2312, val_acc: 0.9240\n",
            "Epoch [19], last_lr: 0.00000, train_loss: 0.0882, val_loss: 0.2325, val_acc: 0.9239\n",
            "CPU times: user 39.6 s, sys: 9.57 s, total: 49.2 s\n",
            "Wall time: 11min 46s\n"
          ]
        }
      ]
    },
    {
      "cell_type": "code",
      "source": [
        "# Plot the accuracy results\n",
        "def plot_accuracies(history):\n",
        "    accuracies = [x['val_acc'] for x in history]\n",
        "    plt.plot(accuracies, '-x')\n",
        "    plt.xlabel('epoch')\n",
        "    plt.ylabel('accuracy')\n",
        "    plt.title('Accuracy vs. No. of epochs');"
      ],
      "metadata": {
        "id": "RHGCuWjigHSX"
      },
      "execution_count": 68,
      "outputs": []
    },
    {
      "cell_type": "code",
      "source": [
        "plot_accuracies(history)"
      ],
      "metadata": {
        "colab": {
          "base_uri": "https://localhost:8080/",
          "height": 472
        },
        "id": "a5nc-BDdgH_D",
        "outputId": "294d34d5-9eae-4b3a-f9ae-056a449b751a"
      },
      "execution_count": 69,
      "outputs": [
        {
          "output_type": "display_data",
          "data": {
            "text/plain": [
              "<Figure size 640x480 with 1 Axes>"
            ],
            "image/png": "[encoded data removed]"
          },
          "metadata": {}
        }
      ]
    },
    {
      "cell_type": "code",
      "source": [
        "# Check difference between training set and validation set to make sure there no overfitting\n",
        "def plot_losses(history):\n",
        "    train_losses = [x.get('train_loss') for x in history]\n",
        "    val_losses = [x['val_loss'] for x in history]\n",
        "    plt.plot(train_losses, '-bx')\n",
        "    plt.plot(val_losses, '-rx')\n",
        "    plt.xlabel('epoch')\n",
        "    plt.ylabel('loss')\n",
        "    plt.legend(['Training', 'Validation'])\n",
        "    plt.title('Loss vs. No. of epochs');"
      ],
      "metadata": {
        "id": "Cn1dr3twgW9o"
      },
      "execution_count": 70,
      "outputs": []
    },
    {
      "cell_type": "code",
      "source": [
        "plot_losses(history)"
      ],
      "metadata": {
        "colab": {
          "base_uri": "https://localhost:8080/",
          "height": 472
        },
        "id": "i5-pVrbO1IL9",
        "outputId": "28d02d7b-44ad-4306-802c-8b202eafc1e5"
      },
      "execution_count": 71,
      "outputs": [
        {
          "output_type": "display_data",
          "data": {
            "text/plain": [
              "<Figure size 640x480 with 1 Axes>"
            ],
            "image/png": "[encoded data removed]"
          },
          "metadata": {}
        }
      ]
    },
    {
      "cell_type": "code",
      "source": [
        "#  Visualize how the learning rate changed over time\n",
        "import numpy as np\n",
        "\n",
        "def plot_lrs(history):\n",
        "    lrs = np.concatenate([x.get('lrs', []) for x in history])\n",
        "    plt.plot(lrs)\n",
        "    plt.xlabel('Batch no.')\n",
        "    plt.ylabel('Learning rate')\n",
        "    plt.title('Learning Rate vs. Batch no.');"
      ],
      "metadata": {
        "id": "Tem5phdhgmbV"
      },
      "execution_count": 72,
      "outputs": []
    },
    {
      "cell_type": "code",
      "source": [
        "plot_lrs(history)"
      ],
      "metadata": {
        "colab": {
          "base_uri": "https://localhost:8080/",
          "height": 472
        },
        "id": "xM74U7gUgry1",
        "outputId": "ab6e79e9-d80f-4b95-e425-7e5a8f635720"
      },
      "execution_count": 73,
      "outputs": [
        {
          "output_type": "display_data",
          "data": {
            "text/plain": [
              "<Figure size 640x480 with 1 Axes>"
            ],
            "image/png": "[encoded data removed]"
          },
          "metadata": {}
        }
      ]
    },
    {
      "cell_type": "markdown",
      "source": [
        "## Test the Model With Single Image"
      ],
      "metadata": {
        "id": "AjgpAG2lgvQm"
      }
    },
    {
      "cell_type": "code",
      "source": [
        "# helper function to show predicted class\n",
        "def predict_image(img, model):\n",
        "    xb = to_device(img.unsqueeze(0), device)\n",
        "    yb = model(xb)\n",
        "    _, preds  = torch.max(yb, dim=1)\n",
        "    return train_ds.classes[preds[0].item()]"
      ],
      "metadata": {
        "id": "le9wWNmCg30p"
      },
      "execution_count": 74,
      "outputs": []
    },
    {
      "cell_type": "code",
      "source": [
        "# show prediction for single image\n",
        "img, label = valid_ds[10]\n",
        "plt.imshow(img.permute(1, 2, 0).clamp(0, 1))\n",
        "print('Label:', train_ds.classes[label], ', Predicted:', predict_image(img, model))"
      ],
      "metadata": {
        "colab": {
          "base_uri": "https://localhost:8080/",
          "height": 448
        },
        "id": "XuSa6XOEhFGZ",
        "outputId": "905bf958-40e8-456a-fe12-b567b2e9eb3b"
      },
      "execution_count": 75,
      "outputs": [
        {
          "output_type": "stream",
          "name": "stdout",
          "text": [
            "Label: airplane , Predicted: airplane\n"
          ]
        },
        {
          "output_type": "display_data",
          "data": {
            "text/plain": [
              "<Figure size 640x480 with 1 Axes>"
            ],
            "image/png": "[encoded data removed]"
          },
          "metadata": {}
        }
      ]
    },
    {
      "cell_type": "code",
      "source": [
        "img, label = valid_ds[500]\n",
        "plt.imshow(img.permute(1, 2, 0).clamp(0, 1))\n",
        "print('Label:', train_ds.classes[label], ', Predicted:', predict_image(img, model))"
      ],
      "metadata": {
        "colab": {
          "base_uri": "https://localhost:8080/",
          "height": 448
        },
        "id": "W3HWDPYniVQw",
        "outputId": "ee281fb2-a23c-45a3-b50c-bc5b4ff839b5"
      },
      "execution_count": 76,
      "outputs": [
        {
          "output_type": "stream",
          "name": "stdout",
          "text": [
            "Label: airplane , Predicted: airplane\n"
          ]
        },
        {
          "output_type": "display_data",
          "data": {
            "text/plain": [
              "<Figure size 640x480 with 1 Axes>"
            ],
            "image/png": "[encoded data removed]"
          },
          "metadata": {}
        }
      ]
    },
    {
      "cell_type": "code",
      "source": [
        "img, label = valid_ds[2000]\n",
        "plt.imshow(img.permute(1, 2, 0).clamp(0, 1))\n",
        "print('Label:', train_ds.classes[label], ', Predicted:', predict_image(img, model))"
      ],
      "metadata": {
        "colab": {
          "base_uri": "https://localhost:8080/",
          "height": 448
        },
        "id": "Ll_IjzKUiZyA",
        "outputId": "c4819a2b-2199-4f9e-db32-10f80fc94686"
      },
      "execution_count": 77,
      "outputs": [
        {
          "output_type": "stream",
          "name": "stdout",
          "text": [
            "Label: bird , Predicted: bird\n"
          ]
        },
        {
          "output_type": "display_data",
          "data": {
            "text/plain": [
              "<Figure size 640x480 with 1 Axes>"
            ],
            "image/png": "[encoded data removed]"
          },
          "metadata": {}
        }
      ]
    },
    {
      "cell_type": "markdown",
      "source": [
        "## Summary"
      ],
      "metadata": {
        "id": "a7wGxz05hRat"
      }
    },
    {
      "cell_type": "code",
      "source": [
        "from torchsummary import summary\n",
        "\n",
        "summary(model,(3, 32, 32))"
      ],
      "metadata": {
        "colab": {
          "base_uri": "https://localhost:8080/",
          "height": 0
        },
        "id": "ofPIRrgyjpjW",
        "outputId": "f5cc1509-3a8b-49e6-ec27-37b680e5ba3e"
      },
      "execution_count": 78,
      "outputs": [
        {
          "metadata": {
            "tags": null
          },
          "name": "stdout",
          "output_type": "stream",
          "text": [
            "----------------------------------------------------------------\n",
            "        Layer (type)               Output Shape         Param #\n",
            "================================================================\n",
            "            Conv2d-1           [-1, 64, 32, 32]           1,792\n",
            "       BatchNorm2d-2           [-1, 64, 32, 32]             128\n",
            "              ReLU-3           [-1, 64, 32, 32]               0\n",
            "            Conv2d-4          [-1, 128, 32, 32]          73,856\n",
            "       BatchNorm2d-5          [-1, 128, 32, 32]             256\n",
            "              ReLU-6          [-1, 128, 32, 32]               0\n",
            "         MaxPool2d-7          [-1, 128, 16, 16]               0\n",
            "            Conv2d-8          [-1, 128, 16, 16]         147,584\n",
            "       BatchNorm2d-9          [-1, 128, 16, 16]             256\n",
            "             ReLU-10          [-1, 128, 16, 16]               0\n",
            "           Conv2d-11          [-1, 128, 16, 16]         147,584\n",
            "      BatchNorm2d-12          [-1, 128, 16, 16]             256\n",
            "             ReLU-13          [-1, 128, 16, 16]               0\n",
            "           Conv2d-14          [-1, 256, 16, 16]         295,168\n",
            "      BatchNorm2d-15          [-1, 256, 16, 16]             512\n",
            "             ReLU-16          [-1, 256, 16, 16]               0\n",
            "        MaxPool2d-17            [-1, 256, 8, 8]               0\n",
            "           Conv2d-18            [-1, 512, 8, 8]       1,180,160\n",
            "      BatchNorm2d-19            [-1, 512, 8, 8]           1,024\n",
            "             ReLU-20            [-1, 512, 8, 8]               0\n",
            "        MaxPool2d-21            [-1, 512, 4, 4]               0\n",
            "        MaxPool2d-22            [-1, 512, 1, 1]               0\n",
            "          Flatten-23                  [-1, 512]               0\n",
            "          Dropout-24                  [-1, 512]               0\n",
            "           Linear-25                   [-1, 10]           5,130\n",
            "================================================================\n",
            "Total params: 1,853,706\n",
            "Trainable params: 1,853,706\n",
            "Non-trainable params: 0\n",
            "----------------------------------------------------------------\n",
            "Input size (MB): 0.01\n",
            "Forward/backward pass size (MB): 8.70\n",
            "Params size (MB): 7.07\n",
            "Estimated Total Size (MB): 15.78\n",
            "----------------------------------------------------------------\n"
          ]
        }
      ]
    },
    {
      "cell_type": "markdown",
      "source": [
        "The final accuracy of the model reached 92.4 after 20 epochs and 92.7% after 30 epochs, with 1.85 million parameters.\n",
        "\n",
        "\n",
        "\n"
      ],
      "metadata": {
        "id": "RwjBGEKH005G"
      }
    },
    {
      "cell_type": "markdown",
      "source": [
        "## References"
      ],
      "metadata": {
        "id": "QN9zb5NLzjSp"
      }
    },
    {
      "cell_type": "markdown",
      "source": [
        "\n",
        "*   How to Train Your ResNet https://myrtle.ai/learn/how-to-train-your-resnet/ \n",
        "*   Classifying CIFAR10 images using ResNets https://jovian.com/aakashns/05b-cifar10-resnet \n",
        "*   CS-GY 6953 Demo Notes https://github.com/kvgarimella/dl-demos/blob/main/demo05-implement-resnet-visualize-loss-landscape.ipynb \n",
        "*   ResNets for CIFAR-10 https://towardsdatascience.com/resnets-for-cifar-10-e63e900524e0\n"
      ],
      "metadata": {
        "id": "1YkHhZT-zlPM"
      }
    },
    {
      "cell_type": "code",
      "source": [],
      "metadata": {
        "id": "UhsOFltVzkuw"
      },
      "execution_count": 78,
      "outputs": []
    }
  ]
}